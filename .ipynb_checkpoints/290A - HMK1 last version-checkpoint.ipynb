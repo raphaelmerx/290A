{
 "metadata": {
  "name": ""
 },
 "nbformat": 3,
 "nbformat_minor": 0,
 "worksheets": [
  {
   "cells": [
    {
     "cell_type": "heading",
     "level": 3,
     "metadata": {},
     "source": [
      "Raphael Merx and Emilie de Longueau\n"
     ]
    },
    {
     "cell_type": "heading",
     "level": 3,
     "metadata": {},
     "source": [
      "IEOR 290A-HMK 1 / March 2014"
     ]
    },
    {
     "cell_type": "heading",
     "level": 2,
     "metadata": {},
     "source": [
      "Importing and and formating the dataset"
     ]
    },
    {
     "cell_type": "code",
     "collapsed": false,
     "input": [
      "%pylab inline"
     ],
     "language": "python",
     "metadata": {},
     "outputs": [
      {
       "output_type": "stream",
       "stream": "stdout",
       "text": [
        "Populating the interactive namespace from numpy and matplotlib\n"
       ]
      }
     ],
     "prompt_number": 1
    },
    {
     "cell_type": "code",
     "collapsed": false,
     "input": [
      "import pandas as pd\n",
      "import numpy as np\n",
      "import sklearn\n",
      "import matplotlib.pyplot as plt\n",
      "from sklearn import cross_validation, linear_model\n",
      "from mpltools import style\n",
      "from mpl_toolkits.mplot3d import Axes3D\n",
      "import matplotlib.cm as cm"
     ],
     "language": "python",
     "metadata": {},
     "outputs": [],
     "prompt_number": 2
    },
    {
     "cell_type": "code",
     "collapsed": false,
     "input": [
      "data = pd.read_csv(\"winequality-red.csv\", delimiter = \";\")"
     ],
     "language": "python",
     "metadata": {},
     "outputs": [],
     "prompt_number": 3
    },
    {
     "cell_type": "code",
     "collapsed": false,
     "input": [
      "columns = ['fixed acidity', 'volatile acidity', 'citric acid', \n",
      "            'residual sugar', 'chlorides', 'free sulfur dioxide', \n",
      "            'total sulfur dioxide', 'density', 'pH', 'sulphates', 'alcohol']\n",
      "result = 'quality'"
     ],
     "language": "python",
     "metadata": {},
     "outputs": [],
     "prompt_number": 4
    },
    {
     "cell_type": "code",
     "collapsed": false,
     "input": [
      "features = data[columns].values # np array with features\n",
      "prediction = data[result].values # np array with labels"
     ],
     "language": "python",
     "metadata": {},
     "outputs": [],
     "prompt_number": 5
    },
    {
     "cell_type": "code",
     "collapsed": false,
     "input": [
      "# Split the data into training/testing sets for cross validation\n",
      "X_train = features[:-100]\n",
      "X_test = features[-100:]\n",
      "\n",
      "# Split the targets into training/testing sets for cross validation\n",
      "y_train = prediction[:-100]\n",
      "y_test = prediction[-100:]"
     ],
     "language": "python",
     "metadata": {},
     "outputs": [],
     "prompt_number": 6
    },
    {
     "cell_type": "heading",
     "level": 2,
     "metadata": {},
     "source": [
      "OLS Regression"
     ]
    },
    {
     "cell_type": "code",
     "collapsed": false,
     "input": [
      "# Create linear regression object\n",
      "ols = linear_model.LinearRegression(fit_intercept=True)\n",
      "\n",
      "# Train the model using the training sets\n",
      "ols.fit(X_train, y_train)\n",
      "\n",
      "# The coefficients\n",
      "print'Coefficients: \\n'\n",
      "for i in columns:\n",
      "    print i, ols.coef_[columns.index(i)]\n",
      "    \n",
      "# Intercept\n",
      "print \"Intercept %.2f\" % ols.intercept_\n",
      "    \n",
      "# The mean square error\n",
      "print \"\\nError (Residual sum of squares): %f\" % np.mean((ols.predict(X_test) - y_test) ** 2)\n",
      "\n",
      "# Explained variance score: 1 is perfect prediction\n",
      "print'\\nVariance score: %f' % ols.score(X_test, y_test)"
     ],
     "language": "python",
     "metadata": {},
     "outputs": [
      {
       "output_type": "stream",
       "stream": "stdout",
       "text": [
        "Coefficients: \n",
        "\n",
        "fixed acidity 0.0269223607476\n",
        "volatile acidity -1.12943448175\n",
        "citric acid -0.205724473662\n",
        "residual sugar 0.0121904061995\n",
        "chlorides -1.77496861717\n",
        "free sulfur dioxide 0.0043001588745\n",
        "total sulfur dioxide -0.0031867259536\n",
        "density -18.1884961974\n",
        "pH -0.397867384222\n",
        "sulphates 0.891956276749\n",
        "alcohol 0.277002419839\n",
        "Intercept 22.24\n",
        "\n",
        "Error (Residual sum of squares): 0.340625\n",
        "\n",
        "Variance score: 0.280016\n"
       ]
      }
     ],
     "prompt_number": 7
    },
    {
     "cell_type": "heading",
     "level": 2,
     "metadata": {},
     "source": [
      "Ridge Regression"
     ]
    },
    {
     "cell_type": "heading",
     "level": 3,
     "metadata": {},
     "source": [
      "Choice of the tuning parameter alpha using cross-validation"
     ]
    },
    {
     "cell_type": "code",
     "collapsed": false,
     "input": [
      "# List of alpha (tuning parameter) to test\n",
      "alphas = list(np.logspace(-2,2,20))\n",
      "\n",
      "# one error for each alpha\n",
      "errors = []\n",
      "for a in alphas:\n",
      "    # Create linear regression object, with no centering of data\n",
      "    clf = linear_model.Ridge(alpha=a)\n",
      "    # this returns the k errors for the k-fold cross-validation\n",
      "    CVerrors = - cross_validation.cross_val_score(clf, X_train, y_train, scoring='mean_squared_error')\n",
      "    # we want the average of these erors\n",
      "    CVerror = np.mean(CVerrors)\n",
      "    errors.append(CVerror)\n",
      "\n",
      "CV_error_min = min(errors)\n",
      "best_alpha = alphas[errors.index(CV_error_min)]\n",
      "print 'The best alpha is {0}'.format(best_alpha)\n",
      "print \"\\nMin CV error: {0}\".format(min(errors))"
     ],
     "language": "python",
     "metadata": {},
     "outputs": [
      {
       "output_type": "stream",
       "stream": "stdout",
       "text": [
        "The best alpha is 0.0162377673919\n",
        "\n",
        "Min CV error: 0.45122507533\n"
       ]
      }
     ],
     "prompt_number": 8
    },
    {
     "cell_type": "heading",
     "level": 3,
     "metadata": {},
     "source": [
      "Plot: Tuning parameter alpha vs CV Error"
     ]
    },
    {
     "cell_type": "code",
     "collapsed": false,
     "input": [
      "style.use('ggplot')\n",
      "# included only the 10 first alphas so that we see the min error\n",
      "plt.scatter(alphas[:10],errors[:10])\n",
      "plt.title(\"CV error vs shrinkage parameter\")\n",
      "plt.xlabel(\"Shrinkage coefficient\")\n",
      "plt.ylabel(\"Mean squared error\")\n",
      "plt.show()"
     ],
     "language": "python",
     "metadata": {},
     "outputs": [
      {
       "metadata": {},
       "output_type": "display_data",
       "png": "[encoded data removed]",
       "text": [
        "<matplotlib.figure.Figure at 0x10bcf6250>"
       ]
      }
     ],
     "prompt_number": 9
    },
    {
     "cell_type": "heading",
     "level": 3,
     "metadata": {},
     "source": [
      "Coefficients, intercept and CV error"
     ]
    },
    {
     "cell_type": "code",
     "collapsed": false,
     "input": [
      "best_ridge = linear_model.Ridge(alpha = best_alpha)\n",
      "best_ridge.fit(X_train, y_train)\n",
      "\n",
      "# The coefficients\n",
      "print'Ridge Coefficients: \\n'\n",
      "for i in columns:\n",
      "    print i, best_ridge.coef_[columns.index(i)]\n",
      "    \n",
      "# Intercept\n",
      "print \"Intercept {0}\".format( best_ridge.intercept_)\n",
      "\n",
      "# Error\n",
      "print \"\\nError (Residual sum of squares): %f\" % np.mean((best_ridge.predict(X_test) - y_test) ** 2)\n",
      "# Explained variance score: 1 is perfect prediction\n",
      "print'\\nVariance score: %f' % best_ridge.score(X_test, y_test)"
     ],
     "language": "python",
     "metadata": {},
     "outputs": [
      {
       "output_type": "stream",
       "stream": "stdout",
       "text": [
        "Ridge Coefficients: \n",
        "\n",
        "fixed acidity 0.0105858441383\n",
        "volatile acidity -1.14225169233\n",
        "citric acid -0.205874336484\n",
        "residual sugar 0.0048972569298\n",
        "chlorides -1.79500263385\n",
        "free sulfur dioxide 0.00447096792744\n",
        "total sulfur dioxide -0.0032367669746\n",
        "density -0.912516300571\n",
        "pH -0.484234647255\n",
        "sulphates 0.868351300657\n",
        "alcohol 0.293147946475\n",
        "Intercept 5.31856728636\n",
        "\n",
        "Error (Residual sum of squares): 0.340760\n",
        "\n",
        "Variance score: 0.279729\n"
       ]
      }
     ],
     "prompt_number": 10
    },
    {
     "cell_type": "heading",
     "level": 2,
     "metadata": {},
     "source": [
      "Lasso Regression"
     ]
    },
    {
     "cell_type": "heading",
     "level": 3,
     "metadata": {},
     "source": [
      "Choice of the tuning parameter alpha using cross-validation"
     ]
    },
    {
     "cell_type": "code",
     "collapsed": false,
     "input": [
      "# List of alpha (tuning parameter) to test\n",
      "alphas = list(np.logspace(-7,2,30))\n",
      "\n",
      "# one error for each alpha\n",
      "errors = []\n",
      "for a in alphas:\n",
      "    # Create linear regression object, with no centering of data\n",
      "    clf = linear_model.Lasso(alpha=a)\n",
      "    # this returns the k errors for the k-fold cross-validation\n",
      "    CVerrors = - cross_validation.cross_val_score(clf, X_train, y_train, scoring='mean_squared_error')\n",
      "    # we want the average of these erors\n",
      "    CVerror = np.mean(CVerrors)\n",
      "    errors.append(CVerror)\n",
      "\n",
      "CV_error_min = min(errors)\n",
      "best_alpha = alphas[errors.index(CV_error_min)]\n",
      "print 'Best alpha: {0}'.format(best_alpha)\n",
      "print \"\\nMin CV error: {0}\".format(min(errors))"
     ],
     "language": "python",
     "metadata": {},
     "outputs": [
      {
       "output_type": "stream",
       "stream": "stdout",
       "text": [
        "Best alpha: 3.03919538231e-05\n",
        "\n",
        "Min CV error: 0.451192254608\n"
       ]
      }
     ],
     "prompt_number": 11
    },
    {
     "cell_type": "heading",
     "level": 3,
     "metadata": {},
     "source": [
      "Plot: Tuning parameter alpha vs CV Error"
     ]
    },
    {
     "cell_type": "code",
     "collapsed": false,
     "input": [
      "plt.scatter(alphas[:15],errors[:15])\n",
      "plt.title(\"CV error vs shrinkage parameter\")\n",
      "plt.xlabel(\"Shrinkage coefficient\")\n",
      "plt.ylabel(\"Mean squared error\")\n",
      "plt.show()"
     ],
     "language": "python",
     "metadata": {},
     "outputs": [
      {
       "metadata": {},
       "output_type": "display_data",
       "png": "[encoded data removed]",
       "text": [
        "<matplotlib.figure.Figure at 0x10d93dd10>"
       ]
      }
     ],
     "prompt_number": 12
    },
    {
     "cell_type": "heading",
     "level": 3,
     "metadata": {},
     "source": [
      "Coefficients, intercept and CV error"
     ]
    },
    {
     "cell_type": "code",
     "collapsed": false,
     "input": [
      "best_lasso = linear_model.Lasso(alpha = best_alpha)\n",
      "best_lasso.fit(X_train, y_train)\n",
      "\n",
      "# The coefficients\n",
      "print'Lasso Coefficients: \\n'\n",
      "for i in columns:\n",
      "    print i, best_lasso.coef_[columns.index(i)]\n",
      "    \n",
      "# Intercept\n",
      "print \"Intercept {0}\".format( best_lasso.intercept_)\n",
      "\n",
      "# Error\n",
      "print \"\\nError (Residual sum of squares): %.8f\" % np.mean((best_lasso.predict(X_test) - y_test) ** 2)\n",
      "# Explained variance score: 1 is perfect prediction\n",
      "print'\\nVariance score: %.2f' % best_lasso.score(X_test, y_test)"
     ],
     "language": "python",
     "metadata": {},
     "outputs": [
      {
       "output_type": "stream",
       "stream": "stdout",
       "text": [
        "Lasso Coefficients: \n",
        "\n",
        "fixed acidity 0.00971711576673\n",
        "volatile acidity -1.14186180513\n",
        "citric acid -0.203232914087\n",
        "residual sugar 0.00446627797624\n",
        "chlorides -1.78997031506\n",
        "free sulfur dioxide 0.00448389010229\n",
        "total sulfur dioxide -0.00324032089741\n",
        "density -0.0\n",
        "pH -0.486138020942\n",
        "sulphates 0.865622672846\n",
        "alcohol 0.293964816229\n",
        "Intercept 4.41553454073\n",
        "\n",
        "Error (Residual sum of squares): 0.34078823\n",
        "\n",
        "Variance score: 0.28\n"
       ]
      }
     ],
     "prompt_number": 13
    },
    {
     "cell_type": "heading",
     "level": 2,
     "metadata": {},
     "source": [
      "Exterior Derivative Estimation (EDE)"
     ]
    },
    {
     "cell_type": "heading",
     "level": 3,
     "metadata": {},
     "source": [
      "Choice of the tuning parameters d and alpha with cross-validation"
     ]
    },
    {
     "cell_type": "code",
     "collapsed": false,
     "input": [
      "# using the formula page 3 of lecture 6\n",
      "X_centered = X_train- X_train.mean(0)\n",
      "U, S, V = np.linalg.svd(X_centered, full_matrices=True)\n",
      "V = np.transpose(V)\n",
      "\n",
      "alphas = list(np.logspace(-10,-2,80))\n",
      "ds= list(range(1,12))\n",
      "\n",
      "errors = [[] for i in range(0,len(ds))] \n",
      "#[[errors for alpha in alphas, first d value]...[errors for alpha in alphas, last d value]]\n",
      "\n",
      "\n",
      "# double loop to store errors for all alpha and d values with cross validation\n",
      "for d in ds:\n",
      "    for alpha in alphas:\n",
      "\n",
      "        # pseudoDiag is the matrix with mostly zeros\n",
      "        pseudoDiag = np.zeros((V.shape[1], U.shape[0]))\n",
      "        for i in range(0,d):\n",
      "            pseudoDiag[i,i] = 1/S[i]\n",
      "        for i in range(d,11):\n",
      "            pseudoDiag[i,i] = S[i] / (S[i]**2 + alpha)\n",
      "        \n",
      "        beta = np.dot(V,pseudoDiag)\n",
      "        beta = np.dot(beta,np.transpose(U))\n",
      "        beta = np.dot(beta,y_train)\n",
      "        \n",
      "        intercept = np.mean(y_train) - np.dot(beta,X_train.mean(0))\n",
      "        \n",
      "        X_test_centered = X_test - X_test.mean(0)\n",
      "        y_predict = intercept +  np.dot(X_test,beta)\n",
      "        err = np.mean((y_predict - y_test)**2)\n",
      "        errors[d-1].append(err)\n",
      "\n",
      "min_errors =[] # list of min errors (associated with best alpha for each d value)\n",
      "\n",
      "for i in range(0,len(ds)):\n",
      "    min_errors.append(min(errors[i]))\n",
      "\n",
      "best_d = ds[min_errors.index(min(min_errors))]\n",
      "best_alpha = alphas[errors[best_d-1].index(min(errors[best_d-1]))]\n",
      "CV_error_min = min_errors[best_d-1]\n",
      "\n",
      "print 'Best alpha: {0}'.format(best_alpha)\n",
      "print 'Best d: {0}'.format(best_d)\n",
      "print \"\\nMin CV error: {0}\".format(CV_error_min) "
     ],
     "language": "python",
     "metadata": {},
     "outputs": [
      {
       "output_type": "stream",
       "stream": "stdout",
       "text": [
        "Best alpha: 0.000189880782447\n",
        "Best d: 10\n",
        "\n",
        "Min CV error: 0.340619991245\n"
       ]
      }
     ],
     "prompt_number": 14
    },
    {
     "cell_type": "heading",
     "level": 3,
     "metadata": {},
     "source": [
      "Plot: Tuning parameters alpha and d vs CV Error"
     ]
    },
    {
     "cell_type": "code",
     "collapsed": false,
     "input": [
      "colors = cm.rainbow(np.linspace(0, 1, len(ds)))\n",
      "\n",
      "fig = plt.figure(figsize(10,8))\n",
      "ax = fig.add_subplot(111, projection='3d')\n",
      "\n",
      "for d, c in zip(ds, colors):\n",
      "    ax.scatter(alphas,[d for i in xrange(len(alphas))],errors[d-1], color = c, marker = \"o\", s=15)\n",
      "\n",
      "ax.set_xlabel('alpha')\n",
      "ax.set_ylabel('d')\n",
      "ax.set_zlabel('CV error')\n",
      "plt.title(\"CV error vs shrinkage parameters (alpha,d)\", fontsize=15)\n",
      "plt.show()\n"
     ],
     "language": "python",
     "metadata": {},
     "outputs": [
      {
       "metadata": {},
       "output_type": "display_data",
       "png": "[encoded data removed]",
       "text": [
        "<matplotlib.figure.Figure at 0x10d93f650>"
       ]
      }
     ],
     "prompt_number": 15
    },
    {
     "cell_type": "heading",
     "level": 3,
     "metadata": {},
     "source": [
      "Coefficients, intercept and CV error"
     ]
    },
    {
     "cell_type": "code",
     "collapsed": false,
     "input": [
      "# We make the regression with best selected tuning parameters \n",
      "\n",
      "d = best_d\n",
      "alpha = best_alpha\n",
      "\n",
      "pseudoDiag = np.zeros((V.shape[1], U.shape[0]))\n",
      "for i in range(0,d):\n",
      "    pseudoDiag[i,i] = 1/S[i]\n",
      "for i in range(d,11):\n",
      "    pseudoDiag[i,i] = S[i] / (S[i]**2 + alpha)\n",
      "\n",
      "beta = np.dot(V,pseudoDiag)\n",
      "beta = np.dot(beta,np.transpose(U))\n",
      "beta = np.dot(beta,y_train)\n",
      "\n",
      "intercept = np.mean(y_train) - np.dot(beta,X_train.mean(0))\n",
      "\n",
      "X_test_centered = X_test - X_test.mean(0)\n",
      "y_predict = intercept +  np.dot(X_test,beta)\n",
      "CV_error = np.mean((y_predict - y_test)**2)\n",
      "\n",
      "# The coefficients\n",
      "print'EDE Coefficients: \\n'\n",
      "for i in columns:\n",
      "    print i, beta[columns.index(i)]\n",
      "    \n",
      "# Intercept\n",
      "print \"\\nIntercept {0}\".format(intercept)\n",
      "\n",
      "# Error\n",
      "print \"\\nError (Residual sum of squares): %.8f\" % CV_error"
     ],
     "language": "python",
     "metadata": {},
     "outputs": [
      {
       "output_type": "stream",
       "stream": "stdout",
       "text": [
        "EDE Coefficients: \n",
        "\n",
        "fixed acidity 0.0237632598886\n",
        "volatile acidity -1.13181144371\n",
        "citric acid -0.205641250794\n",
        "residual sugar 0.0107973688592\n",
        "chlorides -1.78125186909\n",
        "free sulfur dioxide 0.00433334602302\n",
        "total sulfur dioxide -0.0031968534683\n",
        "density -14.8752792501\n",
        "pH -0.41470987154\n",
        "sulphates 0.887744508529\n",
        "alcohol 0.280073433975\n",
        "\n",
        "Intercept 18.9980406833\n",
        "\n",
        "Error (Residual sum of squares): 0.34061999\n"
       ]
      }
     ],
     "prompt_number": 16
    },
    {
     "cell_type": "code",
     "collapsed": false,
     "input": [],
     "language": "python",
     "metadata": {},
     "outputs": [],
     "prompt_number": 16
    },
    {
     "cell_type": "code",
     "collapsed": false,
     "input": [],
     "language": "python",
     "metadata": {},
     "outputs": []
    }
   ],
   "metadata": {}
  }
 ]
}