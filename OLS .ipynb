{
 "metadata": {
  "name": ""
 },
 "nbformat": 3,
 "nbformat_minor": 0,
 "worksheets": [
  {
   "cells": [
    {
     "cell_type": "code",
     "collapsed": false,
     "input": [
      "import pylab as pl\n",
      "import csv\n",
      "import numpy as np\n",
      "from sklearn import linear_model\n",
      "from sklearn import cross_validation\n",
      "\n",
      "with open('winequality-red.csv') as f:\n",
      "    wineReader = csv.reader(f, delimiter=';', quotechar='\"')\n",
      "    reds = []\n",
      "    head = next(wineReader)\n",
      "    for row in wineReader:\n",
      "        row = [eval(v) for v in row]\n",
      "        reds.append(row)\n",
      "print(len(reds))\n",
      "print reds[0]"
     ],
     "language": "python",
     "metadata": {},
     "outputs": [
      {
       "output_type": "stream",
       "stream": "stdout",
       "text": [
        "1599\n",
        "[7.4, 0.7, 0, 1.9, 0.076, 11, 34, 0.9978, 3.51, 0.56, 9.4, 5]\n"
       ]
      }
     ],
     "prompt_number": 1
    },
    {
     "cell_type": "code",
     "collapsed": false,
     "input": [
      "redArray = np.asarray(reds)\n",
      "redArray_X = redArray[:,:-1]\n",
      "redArray_y = redArray[:,-1]\n",
      "# the tuning parameter is beta_0\n",
      "beta_0 = 5.5\n",
      "redArray_y_less_beta_0 = redArray_y - beta_0\n",
      "print redArray_X.shape\n",
      "print redArray_y.shape"
     ],
     "language": "python",
     "metadata": {},
     "outputs": [
      {
       "output_type": "stream",
       "stream": "stdout",
       "text": [
        "(1599, 11)\n",
        "(1599,)\n"
       ]
      }
     ],
     "prompt_number": 2
    },
    {
     "cell_type": "code",
     "collapsed": false,
     "input": [
      "# Create linear regression object, with no centering of data\n",
      "regr = linear_model.LinearRegression(fit_intercept=False)\n",
      "regr.set_params()\n",
      "# Train the model\n",
      "regr.fit(redArray_X, redArray_y_less_beta_0)"
     ],
     "language": "python",
     "metadata": {},
     "outputs": [
      {
       "metadata": {},
       "output_type": "pyout",
       "prompt_number": 3,
       "text": [
        "LinearRegression(copy_X=True, fit_intercept=False, normalize=False)"
       ]
      }
     ],
     "prompt_number": 3
    },
    {
     "cell_type": "code",
     "collapsed": false,
     "input": [
      "print'Coefficients:', regr.coef_\n",
      "# The mean square error\n",
      "print(\"Residual sum of squares: %.2f\"\n",
      "      % np.mean((regr.predict(redArray_X) - redArray_y_less_beta_0) ** 2))\n",
      "# Explained variance score: 1 is perfect prediction\n",
      "print('Variance score: %.2f' % regr.score(redArray_X, redArray_y_less_beta_0))"
     ],
     "language": "python",
     "metadata": {},
     "outputs": [
      {
       "output_type": "stream",
       "stream": "stdout",
       "text": [
        "Coefficients: [ 0.00940118 -1.09569849 -0.18374984  0.00938986 -1.90210568  0.00450112\n",
        " -0.00330504 -1.08230548 -0.49554375  0.89440228  0.29180829]\n",
        "Residual sum of squares: 0.42\n",
        "Variance score: 0.36\n"
       ]
      }
     ],
     "prompt_number": 4
    },
    {
     "cell_type": "code",
     "collapsed": false,
     "input": [
      "# k-fold cross-validation with k=5\n",
      "# the score is the R2\n",
      "meanSqError = cross_validation.cross_val_score(regr, redArray_X, redArray_y_less_beta_0, cv=50, scoring='mean_squared_error')\n",
      "print meanSqError.mean()"
     ],
     "language": "python",
     "metadata": {},
     "outputs": [
      {
       "output_type": "stream",
       "stream": "stdout",
       "text": [
        "-0.428891924594\n"
       ]
      }
     ],
     "prompt_number": 5
    },
    {
     "cell_type": "code",
     "collapsed": false,
     "input": [
      "meanSqError.mean()"
     ],
     "language": "python",
     "metadata": {},
     "outputs": [
      {
       "metadata": {},
       "output_type": "pyout",
       "prompt_number": 6,
       "text": [
        "-0.42889192459419001"
       ]
      }
     ],
     "prompt_number": 6
    },
    {
     "cell_type": "code",
     "collapsed": false,
     "input": [
      "redArray_y_less_beta_0"
     ],
     "language": "python",
     "metadata": {},
     "outputs": [
      {
       "metadata": {},
       "output_type": "pyout",
       "prompt_number": 7,
       "text": [
        "array([-0.5, -0.5, -0.5, ...,  0.5, -0.5,  0.5])"
       ]
      }
     ],
     "prompt_number": 7
    },
    {
     "cell_type": "code",
     "collapsed": false,
     "input": [
      "list(np.logspace(-30,10,40))"
     ],
     "language": "python",
     "metadata": {},
     "outputs": [
      {
       "metadata": {},
       "output_type": "pyout",
       "prompt_number": 11,
       "text": [
        "[1.0000000000000001e-30,\n",
        " 1.0608183551394482e-29,\n",
        " 1.1253355826007645e-28,\n",
        " 1.1937766417144358e-27,\n",
        " 1.2663801734674021e-26,\n",
        " 1.3433993325988988e-25,\n",
        " 1.4251026703029963e-24,\n",
        " 1.5117750706156601e-23,\n",
        " 1.6037187437513276e-22,\n",
        " 1.7012542798525858e-21,\n",
        " 1.8047217668271665e-20,\n",
        " 1.9144819761699536e-19,\n",
        " 2.0309176209047305e-18,\n",
        " 2.1544346900318778e-17,\n",
        " 2.2854638641349837e-16,\n",
        " 2.424462017082321e-15,\n",
        " 2.5719138090593364e-14,\n",
        " 2.7283333764867584e-13,\n",
        " 2.89426612471674e-12,\n",
        " 3.0702906297578373e-11,\n",
        " 3.2570206556597695e-10,\n",
        " 3.4551072945922042e-09,\n",
        " 3.6652412370796113e-08,\n",
        " 3.8881551803080696e-07,\n",
        " 4.1246263829013308e-06,\n",
        " 4.3754793750741623e-05,\n",
        " 0.00046415888336127535,\n",
        " 0.0049238826317067113,\n",
        " 0.052233450742668115,\n",
        " 0.55410203300094574,\n",
        " 5.8780160722748755,\n",
        " 62.35507341273874,\n",
        " 661.47406412301052,\n",
        " 7017.0382867037224,\n",
        " 74438.03013251636,\n",
        " 789652.28684997326,\n",
        " 8376776.4006828554,\n",
        " 88862381.627432615,\n",
        " 942668455.11787772,\n",
        " 10000000000.0]"
       ]
      }
     ],
     "prompt_number": 11
    },
    {
     "cell_type": "code",
     "collapsed": false,
     "input": [],
     "language": "python",
     "metadata": {},
     "outputs": []
    }
   ],
   "metadata": {}
  }
 ]
}