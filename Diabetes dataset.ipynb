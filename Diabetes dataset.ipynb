{
 "metadata": {
  "name": ""
 },
 "nbformat": 3,
 "nbformat_minor": 0,
 "worksheets": [
  {
   "cells": [
    {
     "cell_type": "code",
     "collapsed": false,
     "input": [
      "print(__doc__)\n",
      "\n",
      "\n",
      "# Code source: Jaques Grobler\n",
      "# License: BSD 3 clause\n",
      "\n",
      "\n",
      "import pylab as pl\n",
      "import numpy as np\n",
      "from sklearn import datasets, linear_model\n",
      "\n",
      "# Load the diabetes dataset\n",
      "diabetes = datasets.load_diabetes()\n",
      "\n",
      "\n",
      "# Use only one feature\n",
      "diabetes_X = diabetes.data[:, np.newaxis]\n",
      "diabetes_X_temp = diabetes_X[:, :, 2]\n",
      "\n",
      "# Split the data into training/testing sets\n",
      "diabetes_X_train = diabetes_X_temp[:-20]\n",
      "diabetes_X_test = diabetes_X_temp[-20:]\n",
      "\n",
      "# Split the targets into training/testing sets\n",
      "diabetes_y_train = diabetes.target[:-20]\n",
      "diabetes_y_test = diabetes.target[-20:]\n",
      "\n",
      "# Create linear regression object\n",
      "regr = linear_model.LinearRegression()\n",
      "\n",
      "# Train the model using the training sets\n",
      "regr.fit(diabetes_X_train, diabetes_y_train)\n",
      "\n",
      "# The coefficients\n",
      "print('Coefficients: \\n', regr.coef_)\n",
      "# The mean square error\n",
      "print(\"Residual sum of squares: %.2f\"\n",
      "      % np.mean((regr.predict(diabetes_X_test) - diabetes_y_test) ** 2))\n",
      "# Explained variance score: 1 is perfect prediction\n",
      "print('Variance score: %.2f' % regr.score(diabetes_X_test, diabetes_y_test))"
     ],
     "language": "python",
     "metadata": {},
     "outputs": [
      {
       "output_type": "stream",
       "stream": "stdout",
       "text": [
        "Automatically created module for IPython interactive environment\n",
        "('Coefficients: \\n', array([ 938.23786125]))"
       ]
      },
      {
       "output_type": "stream",
       "stream": "stdout",
       "text": [
        "\n",
        "Residual sum of squares: 2548.07\n",
        "Variance score: 0.47\n"
       ]
      }
     ],
     "prompt_number": 1
    },
    {
     "cell_type": "code",
     "collapsed": false,
     "input": [
      "\n",
      "# Plot outputs\n",
      "pl.scatter(diabetes_X_test, diabetes_y_test,  color='black')\n",
      "pl.plot(diabetes_X_test, regr.predict(diabetes_X_test), color='blue',\n",
      "        linewidth=3)\n",
      "\n",
      "pl.xticks(())\n",
      "pl.yticks(())\n",
      "\n",
      "pl.show()"
     ],
     "language": "python",
     "metadata": {},
     "outputs": [],
     "prompt_number": 8
    },
    {
     "cell_type": "code",
     "collapsed": false,
     "input": [
      "print diabetes_X_test.shape, diabetes_y_test.shape"
     ],
     "language": "python",
     "metadata": {},
     "outputs": [
      {
       "output_type": "stream",
       "stream": "stdout",
       "text": [
        "(20, 1) (20,)\n"
       ]
      }
     ],
     "prompt_number": 3
    },
    {
     "cell_type": "code",
     "collapsed": false,
     "input": [
      "print diabetes_X_test, diabetes_y_test"
     ],
     "language": "python",
     "metadata": {},
     "outputs": [
      {
       "output_type": "stream",
       "stream": "stdout",
       "text": [
        "[[ 0.07786339]\n",
        " [-0.03961813]\n",
        " [ 0.01103904]\n",
        " [-0.04069594]\n",
        " [-0.03422907]\n",
        " [ 0.00564998]\n",
        " [ 0.08864151]\n",
        " [-0.03315126]\n",
        " [-0.05686312]\n",
        " [-0.03099563]\n",
        " [ 0.05522933]\n",
        " [-0.06009656]\n",
        " [ 0.00133873]\n",
        " [-0.02345095]\n",
        " [-0.07410811]\n",
        " [ 0.01966154]\n",
        " [-0.01590626]\n",
        " [-0.01590626]\n",
        " [ 0.03906215]\n",
        " [-0.0730303 ]] [ 233.   91.  111.  152.  120.   67.  310.   94.  183.   66.  173.   72.\n",
        "   49.   64.   48.  178.  104.  132.  220.   57.]\n"
       ]
      }
     ],
     "prompt_number": 4
    },
    {
     "cell_type": "code",
     "collapsed": false,
     "input": [
      "diabetes_X.shape"
     ],
     "language": "python",
     "metadata": {},
     "outputs": [
      {
       "metadata": {},
       "output_type": "pyout",
       "prompt_number": 5,
       "text": [
        "(442, 1, 10)"
       ]
      }
     ],
     "prompt_number": 5
    },
    {
     "cell_type": "code",
     "collapsed": false,
     "input": [
      "diabetes_X"
     ],
     "language": "python",
     "metadata": {},
     "outputs": [
      {
       "metadata": {},
       "output_type": "pyout",
       "prompt_number": 7,
       "text": [
        "array([[[ 0.03807591,  0.05068012,  0.06169621, ..., -0.00259226,\n",
        "          0.01990842, -0.01764613]],\n",
        "\n",
        "       [[-0.00188202, -0.04464164, -0.05147406, ..., -0.03949338,\n",
        "         -0.06832974, -0.09220405]],\n",
        "\n",
        "       [[ 0.08529891,  0.05068012,  0.04445121, ..., -0.00259226,\n",
        "          0.00286377, -0.02593034]],\n",
        "\n",
        "       ..., \n",
        "       [[ 0.04170844,  0.05068012, -0.01590626, ..., -0.01107952,\n",
        "         -0.04687948,  0.01549073]],\n",
        "\n",
        "       [[-0.04547248, -0.04464164,  0.03906215, ...,  0.02655962,\n",
        "          0.04452837, -0.02593034]],\n",
        "\n",
        "       [[-0.04547248, -0.04464164, -0.0730303 , ..., -0.03949338,\n",
        "         -0.00421986,  0.00306441]]])"
       ]
      }
     ],
     "prompt_number": 7
    },
    {
     "cell_type": "code",
     "collapsed": false,
     "input": [],
     "language": "python",
     "metadata": {},
     "outputs": []
    }
   ],
   "metadata": {}
  }
 ]
}