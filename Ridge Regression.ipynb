{
 "metadata": {
  "name": ""
 },
 "nbformat": 3,
 "nbformat_minor": 0,
 "worksheets": [
  {
   "cells": [
    {
     "cell_type": "code",
     "collapsed": false,
     "input": [
      "%pylab inline\n",
      "\n",
      "import csv\n",
      "import numpy as np\n",
      "from sklearn import linear_model\n",
      "from sklearn import cross_validation\n",
      "import matplotlib.pyplot as plt\n",
      "from mpltools import style\n",
      "\n",
      "with open('winequality-red.csv') as f:\n",
      "    wineReader = csv.reader(f, delimiter=';', quotechar='\"')\n",
      "    reds = []\n",
      "    head = next(wineReader)\n",
      "    for row in wineReader:\n",
      "        row = [eval(v) for v in row]\n",
      "        reds.append(row)\n",
      "print(len(reds))\n",
      "print reds[0]"
     ],
     "language": "python",
     "metadata": {},
     "outputs": [
      {
       "output_type": "stream",
       "stream": "stdout",
       "text": [
        "Populating the interactive namespace from numpy and matplotlib\n",
        "1599"
       ]
      },
      {
       "output_type": "stream",
       "stream": "stdout",
       "text": [
        "\n",
        "[7.4, 0.7, 0, 1.9, 0.076, 11, 34, 0.9978, 3.51, 0.56, 9.4, 5]\n"
       ]
      }
     ],
     "prompt_number": 1
    },
    {
     "cell_type": "code",
     "collapsed": false,
     "input": [
      "redArray = np.asarray(reds)\n",
      "redArray_X = redArray[:,:-1]\n",
      "redArray_y = redArray[:,-1]\n",
      "# the tuning parameter is beta_0\n",
      "print redArray_X.shape\n",
      "print redArray_y.shape"
     ],
     "language": "python",
     "metadata": {},
     "outputs": [
      {
       "output_type": "stream",
       "stream": "stdout",
       "text": [
        "(1599, 11)\n",
        "(1599,)\n"
       ]
      }
     ],
     "prompt_number": 2
    },
    {
     "cell_type": "code",
     "collapsed": false,
     "input": [
      "alphas = list(np.logspace(-2,0,15))\n",
      "# one error for each alpha\n",
      "errors = []\n",
      "for a in alphas:\n",
      "    # Create linear regression object, with no centering of data\n",
      "    clf = linear_model.Ridge(alpha=a)\n",
      "    # this returns the k errors for the k-fold cross-validation\n",
      "    CVerrors = - cross_validation.cross_val_score(clf, redArray_X, redArray_y, scoring='mean_squared_error')\n",
      "    # we want the average of these erors\n",
      "    CVerror = np.mean(CVerrors)\n",
      "    errors.append(CVerror)"
     ],
     "language": "python",
     "metadata": {},
     "outputs": [],
     "prompt_number": 59
    },
    {
     "cell_type": "code",
     "collapsed": false,
     "input": [
      "print 'The best alpha is', alphas[errors.index(min(errors))]\n",
      "print min(errors)"
     ],
     "language": "python",
     "metadata": {},
     "outputs": [
      {
       "output_type": "stream",
       "stream": "stdout",
       "text": [
        "The best alpha is 0.0268269579528\n",
        "0.446438151116\n"
       ]
      }
     ],
     "prompt_number": 60
    },
    {
     "cell_type": "code",
     "collapsed": false,
     "input": [
      "style.use('ggplot')\n",
      "plt.scatter(alphas,errors)\n",
      "plt.title(\"CV error vs shrinkage parameter\")\n",
      "plt.xlabel(\"Shrinkage coefficient\")\n",
      "plt.ylabel(\"Mean squared error\")\n",
      "plt.show()"
     ],
     "language": "python",
     "metadata": {},
     "outputs": [
      {
       "metadata": {},
       "output_type": "display_data",
       "png": "[encoded data removed]",
       "text": [
        "<matplotlib.figure.Figure at 0x10fe127d0>"
       ]
      }
     ],
     "prompt_number": 55
    },
    {
     "cell_type": "code",
     "collapsed": false,
     "input": [
      "# alphas = [.01,.1,.2,.3,.4,.5,1,2]\n",
      "alphas = list(np.logspace(-1,7,15))\n",
      "clf = linear_model.RidgeCV(alphas,scoring='mean_squared_error', store_cv_values=True)\n",
      "clf.fit(redArray_X, redArray_y)\n",
      "print 'best alpha is', clf.alpha_\n",
      "\n",
      "allErrors = clf.cv_values_\n",
      "errorForAlpha = []\n",
      "for i in range(allErrors.shape[1]):\n",
      "    errorForAlpha.append(mean(np.abs(allErrors[:,i])))"
     ],
     "language": "python",
     "metadata": {},
     "outputs": [
      {
       "output_type": "stream",
       "stream": "stdout",
       "text": [
        "best alpha is 0.372759372031\n"
       ]
      }
     ],
     "prompt_number": 40
    },
    {
     "cell_type": "code",
     "collapsed": false,
     "input": [
      "style.use('ggplot')\n",
      "plt.scatter(alphas[:],errorForAlpha[:])\n",
      "plt.title(\"CV error vs shrinkage parameter\")\n",
      "plt.xlabel(\"Shrinkage parameter\")\n",
      "plt.ylabel(\"Mean squared error\")\n",
      "plt.show()"
     ],
     "language": "python",
     "metadata": {},
     "outputs": [
      {
       "metadata": {},
       "output_type": "display_data",
       "png": "[encoded data removed]",
       "text": [
        "<matplotlib.figure.Figure at 0x10fc63610>"
       ]
      }
     ],
     "prompt_number": 41
    },
    {
     "cell_type": "heading",
     "level": 2,
     "metadata": {},
     "source": [
      "Computation of the coefficients"
     ]
    },
    {
     "cell_type": "code",
     "collapsed": false,
     "input": [
      "clf = linear_model.Ridge(alpha=0.1)\n",
      "# fit_intercept=True guaranteees that we minimize also over beta_0\n",
      "clf.fit(redArray_X, redArray_y)\n",
      "print 'Coefficients are \\n', clf.coef_"
     ],
     "language": "python",
     "metadata": {},
     "outputs": [
      {
       "output_type": "stream",
       "stream": "stdout",
       "text": [
        "Coefficients are \n",
        "[ 0.00905589 -1.0990285  -0.18701388  0.00884283 -1.82958995  0.00450519\n",
        " -0.00329719 -0.16470264 -0.49480555  0.88333446  0.29336172]\n"
       ]
      }
     ],
     "prompt_number": 43
    },
    {
     "cell_type": "code",
     "collapsed": false,
     "input": [
      "clf.cv_values_"
     ],
     "language": "python",
     "metadata": {},
     "outputs": [
      {
       "metadata": {},
       "output_type": "pyout",
       "prompt_number": 33,
       "text": [
        "array([[-0.59767693, -0.5975429 , -0.59738903, ..., -0.59396116,\n",
        "        -0.59334351, -0.59266244],\n",
        "       [-0.49416293, -0.49433612, -0.49453824, ..., -0.49887406,\n",
        "        -0.49956573, -0.50028612],\n",
        "       [-0.42011024, -0.42019978, -0.42030643, ..., -0.42284801,\n",
        "        -0.42330101, -0.42379356],\n",
        "       ..., \n",
        "       [ 0.32354653,  0.32330484,  0.32301606, ...,  0.31601144,\n",
        "         0.31473241,  0.31332451],\n",
        "       [-0.16853617, -0.16872773, -0.16894597, ..., -0.17301728,\n",
        "        -0.17355702, -0.1740732 ],\n",
        "       [ 0.38452303,  0.38410317,  0.38361062, ...,  0.37265668,\n",
        "         0.37081345,  0.36884228]])"
       ]
      }
     ],
     "prompt_number": 33
    },
    {
     "cell_type": "code",
     "collapsed": false,
     "input": [
      "print np.abs(allErrors[:,3])\n",
      "print allErrors[:,3]"
     ],
     "language": "python",
     "metadata": {},
     "outputs": [
      {
       "output_type": "stream",
       "stream": "stdout",
       "text": [
        "[ 0.60307059  0.49741976  0.42564759 ...,  0.30676137  0.16258876\n",
        "  0.3722373 ]\n",
        "[-0.60307059 -0.49741976 -0.42564759 ...,  0.30676137 -0.16258876\n",
        "  0.3722373 ]\n"
       ]
      }
     ],
     "prompt_number": 16
    },
    {
     "cell_type": "code",
     "collapsed": false,
     "input": [],
     "language": "python",
     "metadata": {},
     "outputs": []
    }
   ],
   "metadata": {}
  }
 ]
}