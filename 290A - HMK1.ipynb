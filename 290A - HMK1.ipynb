{
 "metadata": {
  "name": ""
 },
 "nbformat": 3,
 "nbformat_minor": 0,
 "worksheets": [
  {
   "cells": [
    {
     "cell_type": "heading",
     "level": 3,
     "metadata": {},
     "source": [
      "Raphael Merx"
     ]
    },
    {
     "cell_type": "heading",
     "level": 3,
     "metadata": {},
     "source": [
      "IEOR 290A-HMK 1 / March 2014"
     ]
    },
    {
     "cell_type": "heading",
     "level": 2,
     "metadata": {},
     "source": [
      "Importing and and formating the dataset"
     ]
    },
    {
     "cell_type": "code",
     "collapsed": false,
     "input": [
      "%pylab inline"
     ],
     "language": "python",
     "metadata": {},
     "outputs": [
      {
       "output_type": "stream",
       "stream": "stdout",
       "text": [
        "Populating the interactive namespace from numpy and matplotlib\n"
       ]
      }
     ],
     "prompt_number": 1
    },
    {
     "cell_type": "code",
     "collapsed": false,
     "input": [
      "import pandas as pd\n",
      "import numpy as np\n",
      "import sklearn\n",
      "import matplotlib.pyplot as plt\n",
      "from sklearn import cross_validation, linear_model\n",
      "from mpltools import style"
     ],
     "language": "python",
     "metadata": {},
     "outputs": [],
     "prompt_number": 2
    },
    {
     "cell_type": "code",
     "collapsed": false,
     "input": [
      "data = pd.read_csv(\"winequality-red.csv\", delimiter = \";\")"
     ],
     "language": "python",
     "metadata": {},
     "outputs": [],
     "prompt_number": 3
    },
    {
     "cell_type": "code",
     "collapsed": false,
     "input": [
      "columns = ['fixed acidity', 'volatile acidity', 'citric acid', \n",
      "            'residual sugar', 'chlorides', 'free sulfur dioxide', \n",
      "            'total sulfur dioxide', 'density', 'pH', 'sulphates', 'alcohol']\n",
      "result = 'quality'"
     ],
     "language": "python",
     "metadata": {},
     "outputs": [],
     "prompt_number": 4
    },
    {
     "cell_type": "code",
     "collapsed": false,
     "input": [
      "features = data[columns].values # np array with features\n",
      "prediction = data[result].values # np array with labels"
     ],
     "language": "python",
     "metadata": {},
     "outputs": [],
     "prompt_number": 5
    },
    {
     "cell_type": "code",
     "collapsed": false,
     "input": [
      "# Split the data into training/testing sets for cross validation\n",
      "X_train = features[:-100]\n",
      "X_test = features[-100:]\n",
      "\n",
      "# Split the targets into training/testing sets for cross validation\n",
      "y_train = prediction[:-100]\n",
      "y_test = prediction[-100:]"
     ],
     "language": "python",
     "metadata": {},
     "outputs": [],
     "prompt_number": 6
    },
    {
     "cell_type": "heading",
     "level": 2,
     "metadata": {},
     "source": [
      "OLS Regression"
     ]
    },
    {
     "cell_type": "code",
     "collapsed": false,
     "input": [
      "# Create linear regression object\n",
      "ols = linear_model.LinearRegression(fit_intercept=True)\n",
      "\n",
      "# Train the model using the training sets\n",
      "ols.fit(X_train, y_train)\n",
      "\n",
      "# The coefficients\n",
      "print'Coefficients: \\n'\n",
      "for i in columns:\n",
      "    print i, ols.coef_[columns.index(i)]\n",
      "    \n",
      "# Intercept\n",
      "print \"Intercept %.2f\" % ols.intercept_\n",
      "    \n",
      "# The mean square error\n",
      "print \"\\nError (Residual sum of squares): %f\" % np.mean((ols.predict(X_test) - y_test) ** 2)\n",
      "\n",
      "# Explained variance score: 1 is perfect prediction\n",
      "print'\\nVariance score: %f' % ols.score(X_test, y_test)"
     ],
     "language": "python",
     "metadata": {},
     "outputs": [
      {
       "output_type": "stream",
       "stream": "stdout",
       "text": [
        "Coefficients: \n",
        "\n",
        "fixed acidity 0.0269223607476\n",
        "volatile acidity -1.12943448175\n",
        "citric acid -0.205724473662\n",
        "residual sugar 0.0121904061995\n",
        "chlorides -1.77496861717\n",
        "free sulfur dioxide 0.0043001588745\n",
        "total sulfur dioxide -0.0031867259536\n",
        "density -18.1884961974\n",
        "pH -0.397867384222\n",
        "sulphates 0.891956276749\n",
        "alcohol 0.277002419839\n",
        "Intercept 22.24\n",
        "\n",
        "Error (Residual sum of squares): 0.340625\n",
        "\n",
        "Variance score: 0.280016\n"
       ]
      }
     ],
     "prompt_number": 7
    },
    {
     "cell_type": "heading",
     "level": 2,
     "metadata": {},
     "source": [
      "Ridge Regression"
     ]
    },
    {
     "cell_type": "heading",
     "level": 3,
     "metadata": {},
     "source": [
      "Choice of the tuning parameter alpha using cross-validation"
     ]
    },
    {
     "cell_type": "code",
     "collapsed": false,
     "input": [
      "# List of alpha (tuning parameter) to test\n",
      "alphas = list(np.logspace(-2,2,20))\n",
      "\n",
      "# one error for each alpha\n",
      "errors = []\n",
      "for a in alphas:\n",
      "    # Create linear regression object, with no centering of data\n",
      "    clf = linear_model.Ridge(alpha=a)\n",
      "    # this returns the k errors for the k-fold cross-validation\n",
      "    CVerrors = - cross_validation.cross_val_score(clf, X_train, y_train, scoring='mean_squared_error')\n",
      "    # we want the average of these erors\n",
      "    CVerror = np.mean(CVerrors)\n",
      "    errors.append(CVerror)\n",
      "\n",
      "CV_error_min = min(errors)\n",
      "best_alpha = alphas[errors.index(CV_error_min)]\n",
      "print 'The best alpha is {0}'.format(best_alpha)\n",
      "print \"\\nMin CV error: {0}\".format(min(errors))"
     ],
     "language": "python",
     "metadata": {},
     "outputs": [
      {
       "output_type": "stream",
       "stream": "stdout",
       "text": [
        "The best alpha is 0.0162377673919\n",
        "\n",
        "Min CV error: 0.45122507533\n"
       ]
      }
     ],
     "prompt_number": 25
    },
    {
     "cell_type": "heading",
     "level": 3,
     "metadata": {},
     "source": [
      "Plot: Tuning parameter alpha vs CV Error"
     ]
    },
    {
     "cell_type": "code",
     "collapsed": false,
     "input": [
      "style.use('ggplot')\n",
      "# included only the 10 first alphas so that we see the min error\n",
      "plt.scatter(alphas[:10],errors[:10])\n",
      "plt.title(\"CV error vs shrinkage parameter\")\n",
      "plt.xlabel(\"Shrinkage coefficient\")\n",
      "plt.ylabel(\"Mean squared error\")\n",
      "plt.show()"
     ],
     "language": "python",
     "metadata": {},
     "outputs": [
      {
       "metadata": {},
       "output_type": "display_data",
       "png": "[encoded data removed]",
       "text": [
        "<matplotlib.figure.Figure at 0x113600990>"
       ]
      }
     ],
     "prompt_number": 26
    },
    {
     "cell_type": "heading",
     "level": 3,
     "metadata": {},
     "source": [
      "Coefficients, intercept and CV error"
     ]
    },
    {
     "cell_type": "code",
     "collapsed": false,
     "input": [
      "best_ridge = linear_model.Ridge(alpha = best_alpha)\n",
      "best_ridge.fit(X_train, y_train)\n",
      "\n",
      "# The coefficients\n",
      "print'Ridge Coefficients: \\n'\n",
      "for i in columns:\n",
      "    print i, best_ridge.coef_[columns.index(i)]\n",
      "    \n",
      "# Intercept\n",
      "print \"Intercept {0}\".format( best_ridge.intercept_)\n",
      "\n",
      "# Error\n",
      "print \"\\nError (Residual sum of squares): %f\" % np.mean((best_ridge.predict(X_test) - y_test) ** 2)\n",
      "# Explained variance score: 1 is perfect prediction\n",
      "print'\\nVariance score: %f' % best_ridge.score(X_test, y_test)"
     ],
     "language": "python",
     "metadata": {},
     "outputs": [
      {
       "output_type": "stream",
       "stream": "stdout",
       "text": [
        "Ridge Coefficients: \n",
        "\n",
        "fixed acidity 0.0105858441383\n",
        "volatile acidity -1.14225169233\n",
        "citric acid -0.205874336484\n",
        "residual sugar 0.0048972569298\n",
        "chlorides -1.79500263385\n",
        "free sulfur dioxide 0.00447096792744\n",
        "total sulfur dioxide -0.0032367669746\n",
        "density -0.912516300571\n",
        "pH -0.484234647255\n",
        "sulphates 0.868351300657\n",
        "alcohol 0.293147946475\n",
        "Intercept 5.31856728636\n",
        "\n",
        "Error (Residual sum of squares): 0.340760\n",
        "\n",
        "Variance score: 0.279729\n"
       ]
      }
     ],
     "prompt_number": 10
    },
    {
     "cell_type": "heading",
     "level": 2,
     "metadata": {},
     "source": [
      "Lasso Regression"
     ]
    },
    {
     "cell_type": "heading",
     "level": 3,
     "metadata": {},
     "source": [
      "Choice of the tuning parameter alpha using cross-validation"
     ]
    },
    {
     "cell_type": "code",
     "collapsed": false,
     "input": [
      "# List of alpha (tuning parameter) to test\n",
      "alphas = list(np.logspace(-7,2,30))\n",
      "\n",
      "# one error for each alpha\n",
      "errors = []\n",
      "for a in alphas:\n",
      "    # Create linear regression object, with no centering of data\n",
      "    clf = linear_model.Lasso(alpha=a)\n",
      "    # this returns the k errors for the k-fold cross-validation\n",
      "    CVerrors = - cross_validation.cross_val_score(clf, X_train, y_train, scoring='mean_squared_error')\n",
      "    # we want the average of these erors\n",
      "    CVerror = np.mean(CVerrors)\n",
      "    errors.append(CVerror)\n",
      "\n",
      "CV_error_min = min(errors)\n",
      "best_alpha = alphas[errors.index(CV_error_min)]\n",
      "print 'Best alpha: {0}'.format(best_alpha)\n",
      "print \"\\nMin CV error: {0}\".format(min(errors))"
     ],
     "language": "python",
     "metadata": {},
     "outputs": [
      {
       "output_type": "stream",
       "stream": "stdout",
       "text": [
        "Best alpha: 3.03919538231e-05\n",
        "\n",
        "Min CV error: 0.451192254608\n"
       ]
      }
     ],
     "prompt_number": 11
    },
    {
     "cell_type": "heading",
     "level": 3,
     "metadata": {},
     "source": [
      "Plot: Tuning parameter alpha vs CV Error"
     ]
    },
    {
     "cell_type": "code",
     "collapsed": false,
     "input": [
      "plt.scatter(alphas[:15],errors[:15])\n",
      "plt.title(\"CV error vs shrinkage parameter\")\n",
      "plt.xlabel(\"Shrinkage coefficient\")\n",
      "plt.ylabel(\"Mean squared error\")\n",
      "plt.show()"
     ],
     "language": "python",
     "metadata": {},
     "outputs": [
      {
       "metadata": {},
       "output_type": "display_data",
       "png": "[encoded data removed]",
       "text": [
        "<matplotlib.figure.Figure at 0x113603b10>"
       ]
      }
     ],
     "prompt_number": 12
    },
    {
     "cell_type": "heading",
     "level": 3,
     "metadata": {},
     "source": [
      "Coefficients, intercept and CV error"
     ]
    },
    {
     "cell_type": "code",
     "collapsed": false,
     "input": [
      "best_lasso = linear_model.Lasso(alpha = best_alpha)\n",
      "best_lasso.fit(X_train, y_train)\n",
      "\n",
      "# The coefficients\n",
      "print'Lasso Coefficients: \\n'\n",
      "for i in columns:\n",
      "    print i, best_lasso.coef_[columns.index(i)]\n",
      "    \n",
      "# Intercept\n",
      "print \"Intercept {0}\".format( best_lasso.intercept_)\n",
      "\n",
      "# Error\n",
      "print \"\\nError (Residual sum of squares): %.8f\" % np.mean((best_lasso.predict(X_test) - y_test) ** 2)\n",
      "# Explained variance score: 1 is perfect prediction\n",
      "print'\\nVariance score: %.2f' % best_lasso.score(X_test, y_test)"
     ],
     "language": "python",
     "metadata": {},
     "outputs": [
      {
       "output_type": "stream",
       "stream": "stdout",
       "text": [
        "Lasso Coefficients: \n",
        "\n",
        "fixed acidity 0.00971711576673\n",
        "volatile acidity -1.14186180513\n",
        "citric acid -0.203232914087\n",
        "residual sugar 0.00446627797624\n",
        "chlorides -1.78997031506\n",
        "free sulfur dioxide 0.00448389010229\n",
        "total sulfur dioxide -0.00324032089741\n",
        "density -0.0\n",
        "pH -0.486138020942\n",
        "sulphates 0.865622672846\n",
        "alcohol 0.293964816229\n",
        "Intercept 4.41553454073\n",
        "\n",
        "Error (Residual sum of squares): 0.34078823\n",
        "\n",
        "Variance score: 0.28\n"
       ]
      }
     ],
     "prompt_number": 13
    },
    {
     "cell_type": "heading",
     "level": 2,
     "metadata": {},
     "source": [
      "Exterior Derivative Estimation (EDE)"
     ]
    },
    {
     "cell_type": "code",
     "collapsed": false,
     "input": [
      "# using the formula page 3 of lecture 6\n",
      "X_centered = X_train - X_train.mean(0)\n",
      "U, S, V = np.linalg.svd(X_centered, full_matrices=True)\n",
      "V = np.transpose(V)\n",
      "\n",
      "d = 2\n",
      "alpha = 1\n",
      "\n",
      "# pseudoDiag is the matrix with mostly zeros\n",
      "pseudoDiag = np.zeros((V.shape[1], U.shape[0]))\n",
      "for i in range(0,d):\n",
      "    pseudoDiag[i,i] = 1/S[i]\n",
      "for i in range(d,11):\n",
      "    pseudoDiag[i,i] = S[i] / (S[i]**2 + alpha)\n",
      "\n",
      "beta = np.dot(V,pseudoDiag)\n",
      "beta = np.dot(beta,np.transpose(U))\n",
      "beta = np.dot(beta,y_train)\n",
      "\n",
      "intercept = np.mean(y_train) - np.dot(beta,X_train.mean(0))\n",
      "print intercept\n",
      "\n",
      "X_test_centered = X_test - X_test.mean(0)\n",
      "y_predict = intercept +  np.dot(X_test,beta)\n",
      "print 'Error (Residual sum of squares):', np.mean((y_predict - y_test)**2)"
     ],
     "language": "python",
     "metadata": {},
     "outputs": [
      {
       "output_type": "stream",
       "stream": "stdout",
       "text": [
        "4.13466625917\n",
        "Error (Residual sum of squares): 0.342892931246\n"
       ]
      }
     ],
     "prompt_number": 44
    },
    {
     "cell_type": "code",
     "collapsed": false,
     "input": [],
     "language": "python",
     "metadata": {},
     "outputs": []
    }
   ],
   "metadata": {}
  }
 ]
}